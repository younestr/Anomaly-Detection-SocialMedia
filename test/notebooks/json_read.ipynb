{
 "cells": [
  {
   "cell_type": "code",
   "execution_count": 1,
   "metadata": {},
   "outputs": [],
   "source": [
    "import pandas as pd \n",
    "import numpy as np "
   ]
  },
  {
   "cell_type": "code",
   "execution_count": 8,
   "metadata": {},
   "outputs": [
    {
     "data": {
      "text/html": [
       "<div>\n",
       "<style scoped>\n",
       "    .dataframe tbody tr th:only-of-type {\n",
       "        vertical-align: middle;\n",
       "    }\n",
       "\n",
       "    .dataframe tbody tr th {\n",
       "        vertical-align: top;\n",
       "    }\n",
       "\n",
       "    .dataframe thead th {\n",
       "        text-align: right;\n",
       "    }\n",
       "</style>\n",
       "<table border=\"1\" class=\"dataframe\">\n",
       "  <thead>\n",
       "    <tr style=\"text-align: right;\">\n",
       "      <th></th>\n",
       "      <th>isNSFW</th>\n",
       "      <th>isMedia</th>\n",
       "      <th>title</th>\n",
       "      <th>author</th>\n",
       "      <th>authorIsBlocked</th>\n",
       "      <th>upvoteRatio</th>\n",
       "      <th>viewCount</th>\n",
       "      <th>goldCount</th>\n",
       "      <th>isSponsored</th>\n",
       "      <th>isSpoiler</th>\n",
       "      <th>sendReplies</th>\n",
       "      <th>numComments</th>\n",
       "      <th>score</th>\n",
       "      <th>permalink</th>\n",
       "      <th>text</th>\n",
       "    </tr>\n",
       "  </thead>\n",
       "  <tbody>\n",
       "    <tr>\n",
       "      <th>0</th>\n",
       "      <td>False</td>\n",
       "      <td>False</td>\n",
       "      <td>Post-treatment Anxiety</td>\n",
       "      <td>jmalag</td>\n",
       "      <td>False</td>\n",
       "      <td>0.93</td>\n",
       "      <td>0</td>\n",
       "      <td>0</td>\n",
       "      <td>False</td>\n",
       "      <td>False</td>\n",
       "      <td>True</td>\n",
       "      <td>5</td>\n",
       "      <td>11</td>\n",
       "      <td>https://www.reddit.com/r/Melanoma/comments/1hh...</td>\n",
       "      <td>Hey all- I was diagnosed with Melanoma in situ...</td>\n",
       "    </tr>\n",
       "  </tbody>\n",
       "</table>\n",
       "</div>"
      ],
      "text/plain": [
       "   isNSFW  isMedia                   title  author  authorIsBlocked  \\\n",
       "0   False    False  Post-treatment Anxiety  jmalag            False   \n",
       "\n",
       "   upvoteRatio  viewCount  goldCount  isSponsored  isSpoiler  sendReplies  \\\n",
       "0         0.93          0          0        False      False         True   \n",
       "\n",
       "   numComments  score                                          permalink  \\\n",
       "0            5     11  https://www.reddit.com/r/Melanoma/comments/1hh...   \n",
       "\n",
       "                                                text  \n",
       "0  Hey all- I was diagnosed with Melanoma in situ...  "
      ]
     },
     "execution_count": 8,
     "metadata": {},
     "output_type": "execute_result"
    }
   ],
   "source": [
    "df = pd.read_csv(r'C:\\Users\\hp\\Downloads\\Anomaly-Detection-SocialMedia\\SM-scrapper\\data\\Melanoma_data.csv')\n",
    "df.head()"
   ]
  },
  {
   "cell_type": "code",
   "execution_count": 3,
   "metadata": {},
   "outputs": [
    {
     "data": {
      "text/plain": [
       "Index(['isNSFW', 'isMedia', 'title', 'author', 'numComments', 'score',\n",
       "       'permalink', 'text'],\n",
       "      dtype='object')"
      ]
     },
     "execution_count": 3,
     "metadata": {},
     "output_type": "execute_result"
    }
   ],
   "source": [
    "df.columns"
   ]
  },
  {
   "cell_type": "code",
   "execution_count": null,
   "metadata": {},
   "outputs": [],
   "source": []
  }
 ],
 "metadata": {
  "kernelspec": {
   "display_name": "Python 3",
   "language": "python",
   "name": "python3"
  },
  "language_info": {
   "codemirror_mode": {
    "name": "ipython",
    "version": 3
   },
   "file_extension": ".py",
   "mimetype": "text/x-python",
   "name": "python",
   "nbconvert_exporter": "python",
   "pygments_lexer": "ipython3",
   "version": "3.11.5"
  }
 },
 "nbformat": 4,
 "nbformat_minor": 2
}
